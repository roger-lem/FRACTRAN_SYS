{
 "cells": [
  {
   "cell_type": "code",
   "execution_count": 25,
   "metadata": {},
   "outputs": [
    {
     "name": "stdout",
     "output_type": "stream",
     "text": [
      "97 99\n"
     ]
    }
   ],
   "source": [
    "print(max(primelist),checkmax)"
   ]
  },
  {
   "cell_type": "code",
   "execution_count": 61,
   "metadata": {},
   "outputs": [],
   "source": [
    "primelist = [2]\n",
    "seed = 100\n",
    "checkmax = 2\n",
    "def moreprimes(count):\n",
    "    global checkmax, primelist\n",
    "    print('running moreprimes from',checkmax,'to',count)\n",
    "    for num in range(max(primelist),count+1):\n",
    "        is_prime = None\n",
    "        #print('testing',num)\n",
    "        for prime in primelist:\n",
    "            if num % prime == 0:\n",
    "                is_prime = False\n",
    "        if is_prime == None:\n",
    "            primelist.append(num)\n",
    "        if checkmax < num:\n",
    "            checkmax = num\n",
    "            print('checkmax',checkmax)"
   ]
  },
  {
   "cell_type": "code",
   "execution_count": 68,
   "metadata": {},
   "outputs": [
    {
     "name": "stdout",
     "output_type": "stream",
     "text": [
      "running moreprimes from 1200 to 1200\n"
     ]
    },
    {
     "data": {
      "text/plain": [
       "1200"
      ]
     },
     "execution_count": 68,
     "metadata": {},
     "output_type": "execute_result"
    }
   ],
   "source": [
    "moreprimes(1200)\n",
    "checkmax"
   ]
  },
  {
   "cell_type": "code",
   "execution_count": null,
   "metadata": {},
   "outputs": [],
   "source": [
    "for num in range(count):\n",
    "    if num < max(primelist)"
   ]
  },
  {
   "cell_type": "code",
   "execution_count": 85,
   "metadata": {},
   "outputs": [],
   "source": [
    "def factorize(entry):\n",
    "    rem = entry\n",
    "    factors = []\n",
    "    if entry > checkmax:\n",
    "        moreprimes(entry)\n",
    "    for prime in reversed(primelist):\n",
    "        while prime <= rem:\n",
    "            rem /= prime\n",
    "            factors.append(prime)\n",
    "    return factors"
   ]
  },
  {
   "cell_type": "code",
   "execution_count": 87,
   "metadata": {},
   "outputs": [
    {
     "name": "stdout",
     "output_type": "stream",
     "text": [
      "120 [113]\n",
      "121 [113]\n",
      "122 [113]\n",
      "123 [113]\n",
      "124 [113]\n",
      "125 [113]\n",
      "126 [113]\n",
      "127 [127]\n",
      "128 [127]\n",
      "129 [127]\n",
      "130 [127]\n",
      "131 [131]\n",
      "132 [131]\n",
      "133 [131]\n",
      "134 [131]\n",
      "135 [131]\n",
      "136 [131]\n",
      "137 [137]\n",
      "138 [137]\n",
      "139 [139]\n",
      "140 [139]\n",
      "141 [139]\n",
      "142 [139]\n",
      "143 [139]\n",
      "144 [139]\n",
      "145 [139]\n",
      "146 [139]\n",
      "147 [139]\n",
      "148 [139]\n",
      "149 [149]\n",
      "150 [149]\n",
      "151 [151]\n",
      "152 [151]\n",
      "153 [151]\n",
      "154 [151]\n",
      "155 [151]\n",
      "156 [151]\n",
      "157 [157]\n",
      "158 [157]\n",
      "159 [157]\n",
      "160 [157]\n",
      "161 [157]\n",
      "162 [157]\n",
      "163 [163]\n",
      "164 [163]\n",
      "165 [163]\n",
      "166 [163]\n",
      "167 [167]\n",
      "168 [167]\n",
      "169 [167]\n"
     ]
    }
   ],
   "source": [
    "for chk in range(120,170):\n",
    "    print(chk,factorize(chk))"
   ]
  },
  {
   "cell_type": "code",
   "execution_count": 72,
   "metadata": {},
   "outputs": [],
   "source": [
    "test_results = []\n",
    "factorizations = []\n",
    "sample_size = 200\n",
    "for x in range(sample_size):\n",
    "    factorsub = factorize(x+2)\n",
    "    if sum(factorsub) == x+2:\n",
    "        test_results.append(1)\n",
    "    else:\n",
    "        test_results.append(0)\n",
    "    factorizations.append(factorsub)"
   ]
  },
  {
   "cell_type": "code",
   "execution_count": 84,
   "metadata": {},
   "outputs": [
    {
     "data": {
      "text/plain": [
       "[[2],\n",
       " [3],\n",
       " [3],\n",
       " [5],\n",
       " [5],\n",
       " [7],\n",
       " [7],\n",
       " [7, 2],\n",
       " [7, 3],\n",
       " [11],\n",
       " [11],\n",
       " [13],\n",
       " [13],\n",
       " [13, 2],\n",
       " [13, 3],\n",
       " [17],\n",
       " [17],\n",
       " [19],\n",
       " [19],\n",
       " [19, 2],\n",
       " [19, 3],\n",
       " [23],\n",
       " [23],\n",
       " [23, 2],\n",
       " [23, 3],\n",
       " [23, 3],\n",
       " [23, 5],\n",
       " [29],\n",
       " [29],\n",
       " [31],\n",
       " [31],\n",
       " [31, 2],\n",
       " [31, 3],\n",
       " [31, 3],\n",
       " [31, 5],\n",
       " [37],\n",
       " [37],\n",
       " [37, 2],\n",
       " [37, 3],\n",
       " [41],\n",
       " [41],\n",
       " [43],\n",
       " [43],\n",
       " [43, 2],\n",
       " [43, 3],\n",
       " [47],\n",
       " [47],\n",
       " [47, 2],\n",
       " [47, 3],\n",
       " [47, 3],\n",
       " [47, 5],\n",
       " [53],\n",
       " [53],\n",
       " [53, 2],\n",
       " [53, 3],\n",
       " [53, 3],\n",
       " [53, 5],\n",
       " [59],\n",
       " [59],\n",
       " [61],\n",
       " [61],\n",
       " [61, 2],\n",
       " [61, 3],\n",
       " [61, 3],\n",
       " [61, 5],\n",
       " [67],\n",
       " [67],\n",
       " [67, 2],\n",
       " [67, 3],\n",
       " [71],\n",
       " [71],\n",
       " [73],\n",
       " [73],\n",
       " [73, 2],\n",
       " [73, 3],\n",
       " [73, 3],\n",
       " [73, 5],\n",
       " [79],\n",
       " [79],\n",
       " [79, 2],\n",
       " [79, 3],\n",
       " [83],\n",
       " [83],\n",
       " [83, 2],\n",
       " [83, 3],\n",
       " [83, 3],\n",
       " [83, 5],\n",
       " [89],\n",
       " [89],\n",
       " [89, 2],\n",
       " [89, 3],\n",
       " [89, 3],\n",
       " [89, 5],\n",
       " [89, 5],\n",
       " [89, 7],\n",
       " [97],\n",
       " [97],\n",
       " [97, 2],\n",
       " [97, 3],\n",
       " [101],\n",
       " [101],\n",
       " [103],\n",
       " [103],\n",
       " [103, 2],\n",
       " [103, 3],\n",
       " [107],\n",
       " [107],\n",
       " [109],\n",
       " [109],\n",
       " [109, 2],\n",
       " [109, 3],\n",
       " [113],\n",
       " [113],\n",
       " [113, 2],\n",
       " [113, 3],\n",
       " [113, 3],\n",
       " [113, 5],\n",
       " [113, 5],\n",
       " [113, 7],\n",
       " [113, 7],\n",
       " [113, 7, 2],\n",
       " [113, 7, 3],\n",
       " [113, 11],\n",
       " [113, 11],\n",
       " [113, 13],\n",
       " [127],\n",
       " [127],\n",
       " [127, 2],\n",
       " [127, 3],\n",
       " [131],\n",
       " [131],\n",
       " [131, 2],\n",
       " [131, 3],\n",
       " [131, 3],\n",
       " [131, 5],\n",
       " [137],\n",
       " [137],\n",
       " [139],\n",
       " [139],\n",
       " [139, 2],\n",
       " [139, 3],\n",
       " [139, 3],\n",
       " [139, 5],\n",
       " [139, 5],\n",
       " [139, 7],\n",
       " [139, 7],\n",
       " [139, 7, 2],\n",
       " [149],\n",
       " [149],\n",
       " [151],\n",
       " [151],\n",
       " [151, 2],\n",
       " [151, 3],\n",
       " [151, 3],\n",
       " [151, 5],\n",
       " [157],\n",
       " [157],\n",
       " [157, 2],\n",
       " [157, 3],\n",
       " [157, 3],\n",
       " [157, 5],\n",
       " [163],\n",
       " [163],\n",
       " [163, 2],\n",
       " [163, 3],\n",
       " [167],\n",
       " [167],\n",
       " [167, 2],\n",
       " [167, 3],\n",
       " [167, 3],\n",
       " [167, 5],\n",
       " [173],\n",
       " [173],\n",
       " [173, 2],\n",
       " [173, 3],\n",
       " [173, 3],\n",
       " [173, 5],\n",
       " [179],\n",
       " [179],\n",
       " [181],\n",
       " [181],\n",
       " [181, 2],\n",
       " [181, 3],\n",
       " [181, 3],\n",
       " [181, 5],\n",
       " [181, 5],\n",
       " [181, 7],\n",
       " [181, 7],\n",
       " [181, 7, 2],\n",
       " [191],\n",
       " [191],\n",
       " [193],\n",
       " [193],\n",
       " [193, 2],\n",
       " [193, 3],\n",
       " [197],\n",
       " [197],\n",
       " [199],\n",
       " [199],\n",
       " [199, 2]]"
      ]
     },
     "execution_count": 84,
     "metadata": {},
     "output_type": "execute_result"
    }
   ],
   "source": [
    "factorizations"
   ]
  },
  {
   "cell_type": "code",
   "execution_count": 74,
   "metadata": {},
   "outputs": [
    {
     "data": {
      "text/plain": [
       "0.655"
      ]
     },
     "execution_count": 74,
     "metadata": {},
     "output_type": "execute_result"
    }
   ],
   "source": [
    "sum(test_results) / len(test_results)"
   ]
  },
  {
   "cell_type": "code",
   "execution_count": null,
   "metadata": {},
   "outputs": [],
   "source": []
  }
 ],
 "metadata": {
  "kernelspec": {
   "display_name": "Python 3",
   "language": "python",
   "name": "python3"
  },
  "language_info": {
   "codemirror_mode": {
    "name": "ipython",
    "version": 3
   },
   "file_extension": ".py",
   "mimetype": "text/x-python",
   "name": "python",
   "nbconvert_exporter": "python",
   "pygments_lexer": "ipython3",
   "version": "3.7.6"
  }
 },
 "nbformat": 4,
 "nbformat_minor": 4
}
